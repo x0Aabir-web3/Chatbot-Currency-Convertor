{
 "cells": [
  {
   "cell_type": "code",
   "execution_count": 21,
   "id": "d0532b37",
   "metadata": {},
   "outputs": [],
   "source": [
    "from werkzeug.wrappers import Request, Response\n",
    "from flask import Flask"
   ]
  },
  {
   "cell_type": "code",
   "execution_count": 22,
   "id": "504c5d0e",
   "metadata": {},
   "outputs": [
    {
     "name": "stderr",
     "output_type": "stream",
     "text": [
      " * Running on http://localhost:9000/ (Press CTRL+C to quit)\n",
      "127.0.0.1 - - [07/Aug/2022 11:28:20] \"GET / HTTP/1.1\" 405 -\n",
      "127.0.0.1 - - [07/Aug/2022 11:29:53] \"GET / HTTP/1.1\" 405 -\n",
      "127.0.0.1 - - [07/Aug/2022 11:29:53] \"GET /favicon.ico HTTP/1.1\" 404 -\n"
     ]
    }
   ],
   "source": [
    "app = Flask(__name__)\n",
    "\n",
    "@app.route(\"/\", methods = ['POST'])\n",
    "\n",
    "def index():\n",
    "    data = request-get_json()\n",
    "    source_currency = data['queryResult']['parameters']['unit-currency']['currency']\n",
    "    amount = data['queryResult']['parameters']['unit-currency']['amount']\n",
    "    target_currency = data['queryResult']['parameters']['currency-name']\n",
    "\n",
    "\n",
    "    cf = fetch_conversion_factor(source_currency,target_currency)\n",
    "    final_amount = amount * cf\n",
    "    final_amount = round(final_amount,2)\n",
    "    response = {\n",
    "        'fulfillmentText':\"{} {} is {} {}\".format(amount,source_currency,final_amount,target_currency)\n",
    "    }\n",
    "    return jsonify(response)\n",
    "\n",
    "def fetch_conversion_factor(source,target):\n",
    "\n",
    "    url = \"https://free.currconv.com/api/v7/convert?q={}_{}&compact=ultra&apiKey=j1JmvD4GblWMWNrIJeVEBrtPyKBJzv0e\".format(source,target)\n",
    "\n",
    "    response = requests.get(url)\n",
    "    response = response.json()\n",
    "\n",
    "    return response['{}_{}'.format(source,target)]\n",
    "\n",
    "if __name__ == '__main__':\n",
    "    from werkzeug.serving import run_simple\n",
    "    run_simple('localhost', 9000, app)"
   ]
  },
  {
   "cell_type": "code",
   "execution_count": null,
   "id": "34a7b48c",
   "metadata": {},
   "outputs": [],
   "source": []
  },
  {
   "cell_type": "code",
   "execution_count": null,
   "id": "143a4183",
   "metadata": {},
   "outputs": [],
   "source": []
  },
  {
   "cell_type": "code",
   "execution_count": null,
   "id": "2c537c9f",
   "metadata": {},
   "outputs": [],
   "source": []
  }
 ],
 "metadata": {
  "kernelspec": {
   "display_name": "Python 3 (ipykernel)",
   "language": "python",
   "name": "python3"
  },
  "language_info": {
   "codemirror_mode": {
    "name": "ipython",
    "version": 3
   },
   "file_extension": ".py",
   "mimetype": "text/x-python",
   "name": "python",
   "nbconvert_exporter": "python",
   "pygments_lexer": "ipython3",
   "version": "3.9.12"
  }
 },
 "nbformat": 4,
 "nbformat_minor": 5
}
